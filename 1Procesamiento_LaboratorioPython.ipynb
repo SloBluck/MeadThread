{
  "cells": [
    {
      "cell_type": "markdown",
      "metadata": {
        "id": "view-in-github",
        "colab_type": "text"
      },
      "source": [
        "<a href=\"https://colab.research.google.com/github/SloBluck/MeadThread-other/blob/main/1Procesamiento_LaboratorioPython.ipynb\" target=\"_parent\"><img src=\"https://colab.research.google.com/assets/colab-badge.svg\" alt=\"Open In Colab\"/></a>"
      ]
    },
    {
      "cell_type": "code",
      "execution_count": 2,
      "metadata": {
        "id": "9a106bf6"
      },
      "outputs": [],
      "source": [
        "import matplotlib.pyplot as plt\n",
        "import numpy as np\n",
        "from math import cos,sin,pi,log"
      ],
      "id": "9a106bf6"
    },
    {
      "cell_type": "code",
      "execution_count": 3,
      "metadata": {
        "id": "3a85ffd0"
      },
      "outputs": [],
      "source": [
        "def binary(lon,num):\n",
        "    i,binario=0,0\n",
        "    while num>=1:\n",
        "        binario+=(num%2)*(10**i)\n",
        "        i+=1\n",
        "        num//=2\n",
        "    return str(binario).zfill(lon)\n",
        "def decimal(num):\n",
        "    dec,i=0,0\n",
        "    while (num>=1):\n",
        "        d=num%10\n",
        "        num=num//10\n",
        "        dec+=d*pow(2,i)\n",
        "        i=i+1\n",
        "    return dec\n",
        "def impulso(t):\n",
        "  return (t==0)*1\n",
        "def u(t):\n",
        "  return (t>=0)*1"
      ],
      "id": "3a85ffd0"
    },
    {
      "cell_type": "markdown",
      "metadata": {
        "id": "1a436372"
      },
      "source": [
        "# Cuantizador Mead Thread"
      ],
      "id": "1a436372"
    },
    {
      "cell_type": "code",
      "execution_count": null,
      "metadata": {
        "id": "1a59ede3"
      },
      "outputs": [],
      "source": [
        "Vmax=1\n",
        "Vmin=-1\n",
        "M=3 #Número de bits\n",
        "L=int(2**M)\n",
        "intq=(Vmax-Vmin)/L\n",
        "valM,valQ,valC=[0.73,0.61,0.34,-0.31,0.376,-0.373],[],[]\n",
        "x,y=[],[]\n",
        "for i in range(-int(L/2),1+int(L/2)):\n",
        "    x.append(intq*(i-1/2))\n",
        "    y.append(i*intq)\n",
        "for i in range(len(valM)):\n",
        "    for j in range(1,len(x)):\n",
        "        if x[j-1]<valM[i]<=x[j]:\n",
        "            valQ.append(y[j-1])\n",
        "            valC.append(binary(M,int(j+(y[j-1]<0)*(L/2-1)-(y[j-1]>=0)*((L+1)/2))))"
      ],
      "id": "1a59ede3"
    },
    {
      "cell_type": "code",
      "execution_count": null,
      "metadata": {
        "colab": {
          "base_uri": "https://localhost:8080/",
          "height": 300
        },
        "id": "a4241bc7",
        "outputId": "7f5fce10-7bd5-4a22-8143-291c464b06d5",
        "scrolled": true
      },
      "outputs": [
        {
          "name": "stdout",
          "output_type": "stream",
          "text": [
            "Q = [0.75, 0.5, 0.25, -0.25, 0.5, -0.25]\n",
            "C = ['011', '010', '001', '111', '010', '111']\n"
          ]
        },
        {
          "data": {
            "image/png": "[encoded data removed]",
            "text/plain": [
              "<Figure size 432x288 with 1 Axes>"
            ]
          },
          "metadata": {},
          "output_type": "display_data"
        }
      ],
      "source": [
        "for i in range(1,L+1):\n",
        "    plt.plot([x[i-1],x[i]],[y[i-1],y[i-1]],color=\"blue\")\n",
        "    plt.annotate(binary(M,int(i+(y[i-1]<0)*(L/2-1)-(y[i-1]>=0)*((L+1)/2))),(x[i-1],y[i-1]))\n",
        "    if i!=L:\n",
        "        plt.plot([x[i],x[i]],[y[i-1],y[i]],color=\"blue\")\n",
        "\n",
        "for i in range(len(valM)):\n",
        "   plt.plot([valM[i],valM[i]],[min(y),max(y)],linestyle='dotted',color=\"red\")\n",
        "print(\"Q =\",valQ)\n",
        "print(\"C =\",valC)"
      ],
      "id": "a4241bc7"
    },
    {
      "cell_type": "markdown",
      "metadata": {
        "id": "ppVPGpXn7yov"
      },
      "source": [
        "# Graficando la señal"
      ],
      "id": "ppVPGpXn7yov"
    },
    {
      "cell_type": "code",
      "execution_count": null,
      "metadata": {
        "id": "ba5a7b87"
      },
      "outputs": [],
      "source": [
        "Trama=valC"
      ],
      "id": "ba5a7b87"
    },
    {
      "cell_type": "code",
      "execution_count": null,
      "metadata": {
        "colab": {
          "base_uri": "https://localhost:8080/",
          "height": 341
        },
        "id": "cf56369b",
        "outputId": "f51d1165-2ed6-4d86-c407-09456a6cbf57"
      },
      "outputs": [
        {
          "name": "stderr",
          "output_type": "stream",
          "text": [
            "<ipython-input-6-9ce020b47070>:9: UserWarning: In Matplotlib 3.3 individual lines on a stem plot will be added as a LineCollection instead of individual lines. This significantly improves the performance of a stem plot. To remove this warning and switch to the new behaviour, set the \"use_line_collection\" keyword argument to True.\n",
            "  plt.stem(xtrama,mx)\n"
          ]
        },
        {
          "data": {
            "text/plain": [
              "<StemContainer object of 3 artists>"
            ]
          },
          "execution_count": 6,
          "metadata": {},
          "output_type": "execute_result"
        },
        {
          "data": {
            "image/png": "[encoded data removed]",
            "text/plain": [
              "<Figure size 432x288 with 1 Axes>"
            ]
          },
          "metadata": {},
          "output_type": "display_data"
        }
      ],
      "source": [
        "isbinary=True\n",
        "xtrama=np.linspace(0,1,len(Trama))\n",
        "mx=[]\n",
        "for i in Trama:\n",
        "  i=int(i)\n",
        "  if isbinary:\n",
        "    i=decimal(i)\n",
        "  mx.append(intq*i) if i<L/2 else mx.append(-(L-i)*intq)\n",
        "plt.stem(xtrama,mx)"
      ],
      "id": "cf56369b"
    },
    {
      "cell_type": "markdown",
      "metadata": {
        "id": "9RoHiaeZTCWh"
      },
      "source": [
        "# Filtraje espacial"
      ],
      "id": "9RoHiaeZTCWh"
    },
    {
      "cell_type": "code",
      "execution_count": null,
      "metadata": {
        "id": "GO3R2SC0TNvk"
      },
      "outputs": [],
      "source": [],
      "id": "GO3R2SC0TNvk"
    },
    {
      "cell_type": "markdown",
      "metadata": {
        "id": "jMW4wzFHGE_5"
      },
      "source": [
        "# Examen PDS\n",
        "\n"
      ],
      "id": "jMW4wzFHGE_5"
    },
    {
      "cell_type": "code",
      "execution_count": null,
      "metadata": {
        "colab": {
          "base_uri": "https://localhost:8080/"
        },
        "id": "df0yFAaEGJmU",
        "outputId": "9f93f7b5-a179-4c36-a5aa-9f9111310a11"
      },
      "outputs": [
        {
          "name": "stdout",
          "output_type": "stream",
          "text": [
            "6000.0 Hz\n"
          ]
        }
      ],
      "source": [
        "fm=3*10e+2\n",
        "fs_mín=2*fm\n",
        "print(fs_mín,\"Hz\")"
      ],
      "id": "df0yFAaEGJmU"
    },
    {
      "cell_type": "code",
      "execution_count": null,
      "metadata": {
        "id": "wNSRCx8oNVwE"
      },
      "outputs": [],
      "source": [
        "def x(t):\n",
        "  return 0.2*np.cos(2*pi*t)+0.1*np.sin(2*pi*5*t)\n",
        "t=np.arange(0,2+intq,intq)"
      ],
      "id": "wNSRCx8oNVwE"
    },
    {
      "cell_type": "code",
      "execution_count": null,
      "metadata": {
        "colab": {
          "base_uri": "https://localhost:8080/"
        },
        "id": "uqxKOMORYxFF",
        "outputId": "613bd360-ed6b-45c2-e8d1-83acccdd38c0"
      },
      "outputs": [
        {
          "data": {
            "text/plain": [
              "(array([ 0.2,  0.1, -0.2, -0.1,  0.2,  0.1, -0.2, -0.1,  0.2]),\n",
              " array([0.  , 0.25, 0.5 , 0.75, 1.  , 1.25, 1.5 , 1.75, 2.  ]))"
            ]
          },
          "execution_count": 31,
          "metadata": {},
          "output_type": "execute_result"
        }
      ],
      "source": [
        "x(t),t"
      ],
      "id": "uqxKOMORYxFF"
    },
    {
      "cell_type": "code",
      "execution_count": null,
      "metadata": {
        "colab": {
          "base_uri": "https://localhost:8080/",
          "height": 282
        },
        "id": "TQUzJicZM4bl",
        "outputId": "dc9ad6bc-2bbc-4133-9d5a-5c7dfb1b885b"
      },
      "outputs": [
        {
          "data": {
            "text/plain": [
              "[<matplotlib.lines.Line2D at 0x7fd0af7a0be0>]"
            ]
          },
          "execution_count": 32,
          "metadata": {},
          "output_type": "execute_result"
        },
        {
          "data": {
            "image/png": "[encoded data removed]",
            "text/plain": [
              "<Figure size 432x288 with 1 Axes>"
            ]
          },
          "metadata": {},
          "output_type": "display_data"
        }
      ],
      "source": [
        "plt.plot(x(t),t)"
      ],
      "id": "TQUzJicZM4bl"
    },
    {
      "cell_type": "markdown",
      "metadata": {
        "id": "mqIjPUwmPOOb"
      },
      "source": [
        "# Recuantización"
      ],
      "id": "mqIjPUwmPOOb"
    },
    {
      "cell_type": "code",
      "execution_count": null,
      "metadata": {
        "id": "eAk18s74O9hP"
      },
      "outputs": [],
      "source": [
        "x=[0.312,0.183,-0.423,0.018,0.116,0.532,0.391,-0.231]"
      ],
      "id": "eAk18s74O9hP"
    },
    {
      "cell_type": "code",
      "execution_count": null,
      "metadata": {
        "id": "Ob3E_dJ9PNm5"
      },
      "outputs": [],
      "source": [
        "fe=max(list(map(abs,x)))\n",
        "r=8  #r\n",
        "r1=3 #r'\n",
        "rfe=6 #rfe"
      ],
      "id": "Ob3E_dJ9PNm5"
    },
    {
      "cell_type": "code",
      "execution_count": null,
      "metadata": {
        "id": "W83UuezJQU3o"
      },
      "outputs": [],
      "source": [
        "y_prima,y=[],[]\n",
        "for i in x:\n",
        "  i=float(i)\n",
        "  y_prima.append(round(i*(pow(2,r1-1)-1)/fe))\n",
        "for i in y_prima:\n",
        "  y.append(round((fe*i)/(pow(2,r1-1)-1),3))"
      ],
      "id": "W83UuezJQU3o"
    },
    {
      "cell_type": "code",
      "execution_count": null,
      "metadata": {
        "colab": {
          "base_uri": "https://localhost:8080/"
        },
        "id": "Ewub3d9WQVQj",
        "outputId": "3f2dcf54-afbc-4a1f-fb6f-658002a20613"
      },
      "outputs": [
        {
          "name": "stdout",
          "output_type": "stream",
          "text": [
            "Sí hubo reducción (compresión) de información.\n",
            "Factor de compresión: 2.133\n"
          ]
        }
      ],
      "source": [
        "fcomp=r*len(x)/(rfe+r1*len(x))\n",
        "if fcomp>1:\n",
        "  print(\"Sí hubo reducción (compresión) de información.\")\n",
        "else:\n",
        "  print(\"No hubo reducción (compresión) de información.\")\n",
        "print(\"Factor de compresión:\",round(fcomp,3))"
      ],
      "id": "Ewub3d9WQVQj"
    },
    {
      "cell_type": "code",
      "execution_count": null,
      "metadata": {
        "colab": {
          "base_uri": "https://localhost:8080/"
        },
        "id": "jfCiuL03TwTl",
        "outputId": "9fb705ba-6edc-4c73-a039-3b79fff7535d"
      },
      "outputs": [
        {
          "name": "stdout",
          "output_type": "stream",
          "text": [
            "17.407 dB\n"
          ]
        }
      ],
      "source": [
        "Ex,Eeq=0,0\n",
        "for i in range(len(x)):\n",
        "  Ex+=pow(x[i],2)\n",
        "  Eeq+=pow(x[i]-y[i],2)\n",
        "SNR=10*log(Ex/Eeq,10)\n",
        "print(round(SNR,3),\"dB\")"
      ],
      "id": "jfCiuL03TwTl"
    },
    {
      "cell_type": "code",
      "execution_count": null,
      "metadata": {
        "colab": {
          "base_uri": "https://localhost:8080/",
          "height": 282
        },
        "id": "Op3UnYw3t1TU",
        "outputId": "7f6fa924-be2b-4780-8eb0-6c37c056be93"
      },
      "outputs": [
        {
          "data": {
            "text/plain": [
              "[<matplotlib.lines.Line2D at 0x7ff01efc9430>]"
            ]
          },
          "execution_count": 12,
          "metadata": {},
          "output_type": "execute_result"
        },
        {
          "data": {
            "image/png": "[encoded data removed]",
            "text/plain": [
              "<Figure size 432x288 with 1 Axes>"
            ]
          },
          "metadata": {},
          "output_type": "display_data"
        }
      ],
      "source": [
        "plt.plot(np.arange(0,len(x)),x)\n",
        "plt.plot(np.arange(0,len(x)),y)"
      ],
      "id": "Op3UnYw3t1TU"
    },
    {
      "cell_type": "markdown",
      "metadata": {
        "id": "VhKgQKqAXqWB"
      },
      "source": [
        "## Descripción de sistema discreto"
      ],
      "id": "VhKgQKqAXqWB"
    },
    {
      "cell_type": "code",
      "execution_count": 1,
      "metadata": {
        "id": "ZbLm3G_gvaWa"
      },
      "outputs": [],
      "source": [
        "def y(n):\n",
        "  a,b,c=2,-0.5,0\n",
        "  return c*a*impulso(n-1)+c*b*impulso(n-2)"
      ],
      "id": "ZbLm3G_gvaWa"
    },
    {
      "cell_type": "code",
      "execution_count": 6,
      "metadata": {
        "id": "HmG7jPa3X4F3"
      },
      "outputs": [],
      "source": [
        "n=np.round(np.arange(0,5,0.01),2)"
      ],
      "id": "HmG7jPa3X4F3"
    },
    {
      "cell_type": "code",
      "execution_count": 4,
      "metadata": {
        "colab": {
          "base_uri": "https://localhost:8080/"
        },
        "id": "nlzPDprL2i1s",
        "outputId": "38dfe6b9-43ca-43c4-92ea-f76ca9df1fb8"
      },
      "outputs": [
        {
          "output_type": "execute_result",
          "data": {
            "text/plain": [
              "0.0"
            ]
          },
          "metadata": {},
          "execution_count": 4
        }
      ],
      "source": [
        "y(1)"
      ],
      "id": "nlzPDprL2i1s"
    },
    {
      "cell_type": "code",
      "execution_count": 7,
      "metadata": {
        "colab": {
          "base_uri": "https://localhost:8080/",
          "height": 282
        },
        "id": "lAwjpwnaXzCf",
        "outputId": "7c8116f6-45de-4fd0-fd64-aaccb48dca2a"
      },
      "outputs": [
        {
          "output_type": "execute_result",
          "data": {
            "text/plain": [
              "[<matplotlib.lines.Line2D at 0x7f9f8def87c0>]"
            ]
          },
          "metadata": {},
          "execution_count": 7
        },
        {
          "output_type": "display_data",
          "data": {
            "text/plain": [
              "<Figure size 432x288 with 1 Axes>"
            ],
            "image/png": "[encoded data removed]"
          },
          "metadata": {
            "needs_background": "light"
          }
        }
      ],
      "source": [
        "plt.plot(n,y(n),color='red')"
      ],
      "id": "lAwjpwnaXzCf"
    }
  ],
  "metadata": {
    "colab": {
      "provenance": [],
      "include_colab_link": true
    },
    "kernelspec": {
      "display_name": "Python 3 (ipykernel)",
      "language": "python",
      "name": "python3"
    },
    "language_info": {
      "codemirror_mode": {
        "name": "ipython",
        "version": 3
      },
      "file_extension": ".py",
      "mimetype": "text/x-python",
      "name": "python",
      "nbconvert_exporter": "python",
      "pygments_lexer": "ipython3",
      "version": "3.10.5"
    }
  },
  "nbformat": 4,
  "nbformat_minor": 5
}